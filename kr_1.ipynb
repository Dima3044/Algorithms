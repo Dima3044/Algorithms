{
 "cells": [
  {
   "cell_type": "markdown",
   "id": "afee4732-502f-4ec3-abf8-7634979b0d2b",
   "metadata": {},
   "source": [
    "Задача 2. Ловкость рук."
   ]
  },
  {
   "cell_type": "code",
   "execution_count": 3,
   "id": "c833cd32-fb94-4460-a28d-71473e91f012",
   "metadata": {},
   "outputs": [],
   "source": [
    "import time\n",
    "import numpy as np"
   ]
  },
  {
   "cell_type": "code",
   "execution_count": 10,
   "id": "645304fb-0e62-49bd-8e95-e666949a4ee9",
   "metadata": {},
   "outputs": [
    {
     "name": "stdin",
     "output_type": "stream",
     "text": [
      " 4\n",
      " 1111\n",
      " 1111\n",
      " 1111\n",
      " 1111\n"
     ]
    },
    {
     "name": "stdout",
     "output_type": "stream",
     "text": [
      "0\n",
      "Время выполнения 0.0009\n"
     ]
    }
   ],
   "source": [
    "k = int(input()) * 2\n",
    "l_1 = [x for x in input()]\n",
    "l_2 = [x for x in input()]\n",
    "l_3 = [x for x in input()]\n",
    "l_4 = [x for x in input()]\n",
    "\n",
    "start = time.time()\n",
    "L = l_1 + l_2 + l_3 + l_4\n",
    "score = 0\n",
    "\n",
    "for i in range(10):\n",
    "    count = 0\n",
    "    for j in range(16):\n",
    "        if L[j] == str(i):\n",
    "            count += 1\n",
    "    if count <= k and count > 0:\n",
    "        score += 1\n",
    "end = time.time()\n",
    "\n",
    "print(score)\n",
    "print(f'Время выполнения {end - start:.4f}')"
   ]
  },
  {
   "cell_type": "markdown",
   "id": "932b1933-c5ad-4b51-8633-8a34c7aa235e",
   "metadata": {},
   "source": [
    "Задача 6. Вычисление полинома."
   ]
  },
  {
   "cell_type": "code",
   "execution_count": 15,
   "id": "e060af42-832f-4b7b-b42d-e5ecfc20d970",
   "metadata": {},
   "outputs": [
    {
     "name": "stdin",
     "output_type": "stream",
     "text": [
      " 5 9 10\n",
      " 1\n",
      " 0\n",
      " 0\n",
      " 0\n",
      " 0\n",
      " 0\n",
      " 1\n",
      " 2\n",
      " 3\n",
      " 4\n",
      " 5\n",
      " 6\n",
      " 7\n",
      " 8\n",
      " 9\n"
     ]
    },
    {
     "name": "stdout",
     "output_type": "stream",
     "text": [
      "1\n",
      "2\n",
      "3\n",
      "4\n",
      "5\n",
      "6\n",
      "7\n",
      "8\n",
      "9\n",
      "Время выполнения: 0.0005\n"
     ]
    }
   ],
   "source": [
    "N, M, MOD = [int(x) for x in input().split()]\n",
    "\n",
    "A = [int(input()) for _ in range(N + 1)]\n",
    "X = [int(input()) for _ in range(M)]\n",
    "\n",
    "start = time.time()\n",
    "for x in X:\n",
    "    result = 0\n",
    "    for a in A:\n",
    "        result = result * x + a\n",
    "    print(result % MOD)\n",
    "end = time.time()\n",
    "print(f'Время выполнения: {end - start:.4f}')"
   ]
  },
  {
   "cell_type": "markdown",
   "id": "b72fb751-44a1-4b26-95ef-acf021376e6d",
   "metadata": {},
   "source": [
    "Задача 6. Магараджа"
   ]
  },
  {
   "cell_type": "code",
   "execution_count": 20,
   "id": "cbd3c3d0-0090-40de-af9d-c3cd2364d96d",
   "metadata": {},
   "outputs": [
    {
     "name": "stdout",
     "output_type": "stream",
     "text": [
      "248\n",
      "0.05232834815979004\n"
     ]
    }
   ],
   "source": [
    "def place_piece(row, col, board):\n",
    "    knight_move(row, col, board)\n",
    "    rook_move(row, col, board)\n",
    "    bishop_move(row, col, board)\n",
    "\n",
    "\n",
    "def knight_move(row, col, board):\n",
    "    N = len(board)\n",
    "    moves = [(2, 1), (2, -1), (1, 2), (-1, 2), (-2, 1), (-2, -1), (-1, -2), (1, -2)]\n",
    "\n",
    "    for move in moves:\n",
    "        if row + move[0] >= 0 and row + move[0] < N:\n",
    "            if col + move[1] >= 0 and col + move[1] < N:\n",
    "                board[row + move[0]][col + move[1]] = 1\n",
    "\n",
    "def rook_move(row, col, board):  \n",
    "    N = len(board)\n",
    "    for i in range(0, N):\n",
    "        board[i][col] = 1\n",
    "        board[row][i] = 1\n",
    "\n",
    "\n",
    "def bishop_move(row, col, board):\n",
    "    N = len(board)\n",
    "    for i in range(1, N - col):\n",
    "        if col + i < N:\n",
    "            if row + i < N:\n",
    "                board[row + i][col + i] = 1\n",
    "            if row - i >= 0:\n",
    "                board[row - i][col + i] = 1\n",
    "                \n",
    "    for i in range(1, col + 1):\n",
    "        if col - i >= 0:\n",
    "            if row + i < N:\n",
    "                board[row + i][col - i] = 1\n",
    "            if row - i >= 0:\n",
    "                board[row - i][col - i] = 1\n",
    "\n",
    "\n",
    "def maharaja(N, K, board=None, pieces_placed=0, start_index=0):\n",
    "    # Базовые случаи\n",
    "    if pieces_placed == K:\n",
    "        return 1  # Нашли валидную расстановку\n",
    "\n",
    "    \n",
    "    if start_index >= N * N:\n",
    "        return 0  # Прошли все клетки\n",
    "    \n",
    "    if board is None:\n",
    "        board = [[0] * N for _ in range(N)]\n",
    "    \n",
    "    total = 0\n",
    "        \n",
    "    index = start_index\n",
    "    \n",
    "    while index < N * N:\n",
    "        row = index // N\n",
    "        col = index % N\n",
    "\n",
    "        if board[row][col] == 0:\n",
    "            saved_board = [[x for x in row] for row in board]\n",
    "\n",
    "            place_piece(row, col, board)\n",
    "\n",
    "            total += maharaja(N, K, board, pieces_placed+1, index+(N - col))\n",
    "\n",
    "            board = saved_board\n",
    "            \n",
    "        index += 1\n",
    "    \n",
    "    return total\n",
    "                \n",
    "start = time.time()\n",
    "result = maharaja(7, 5)\n",
    "end = time.time()\n",
    "print(result)\n",
    "print(end - start)"
   ]
  },
  {
   "cell_type": "markdown",
   "id": "250c329a-688f-4f69-ad19-b1ff32456898",
   "metadata": {},
   "source": [
    "Задача 11. Поиск в сломанном массиве "
   ]
  },
  {
   "cell_type": "code",
   "execution_count": 153,
   "id": "94b75c59-4b4e-440d-8eff-3df8666bccaf",
   "metadata": {},
   "outputs": [
    {
     "name": "stdout",
     "output_type": "stream",
     "text": [
      "0.006448030471801758\n"
     ]
    }
   ],
   "source": [
    "def prepare(arr):\n",
    "    N = len(arr)\n",
    "    max_val = min_val = arr[0]\n",
    "\n",
    "    for i in range(1, N):\n",
    "        if arr[i] > max_val:\n",
    "            max_val = arr[i]\n",
    "        if arr[i] < min_val:\n",
    "            min_val = arr[i]\n",
    "\n",
    "    D = max_val - min_val + 1\n",
    "    a_inv = [-1] * D\n",
    "\n",
    "    for i in range(N):\n",
    "        n = arr[i] - min_val\n",
    "        a_inv[n] = i\n",
    "\n",
    "    return max_val, min_val, a_inv\n",
    "\n",
    "\n",
    "def dis_search(arr, key):\n",
    "    max_val, min_val, a_inv = prepare(arr)\n",
    "\n",
    "    result = -1\n",
    "    if min_val <= key and max_val >= key:\n",
    "        result = a_inv[key - min_val]\n",
    "    return result\n",
    "\n",
    "\n",
    "arr = np.arange(10000, 0, -1)\n",
    "key = 2\n",
    "# arr = [int(x) for x in input().split(' ')]\n",
    "# key = int(input())\n",
    "start = time.time()\n",
    "dis_search(arr, key)\n",
    "end = time.time()\n",
    "\n",
    "print(end - start)"
   ]
  }
 ],
 "metadata": {
  "kernelspec": {
   "display_name": "Python [conda env:base] *",
   "language": "python",
   "name": "conda-base-py"
  },
  "language_info": {
   "codemirror_mode": {
    "name": "ipython",
    "version": 3
   },
   "file_extension": ".py",
   "mimetype": "text/x-python",
   "name": "python",
   "nbconvert_exporter": "python",
   "pygments_lexer": "ipython3",
   "version": "3.13.5"
  }
 },
 "nbformat": 4,
 "nbformat_minor": 5
}
